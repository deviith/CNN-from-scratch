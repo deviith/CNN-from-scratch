{
 "cells": [
  {
   "cell_type": "code",
   "execution_count": 294,
   "id": "39f251c2",
   "metadata": {},
   "outputs": [],
   "source": [
    "import numpy as np\n",
    "import matplotlib.pyplot as plt\n",
    "%matplotlib inline"
   ]
  },
  {
   "cell_type": "markdown",
   "id": "75f1be51",
   "metadata": {},
   "source": [
    "### Load The dataset"
   ]
  },
  {
   "cell_type": "code",
   "execution_count": 295,
   "id": "08187dbd",
   "metadata": {},
   "outputs": [],
   "source": [
    "from torch.utils.data import DataLoader\n",
    "import torchvision.datasets as datasets\n",
    "\n",
    "from torchvision import datasets, transforms\n",
    "\n",
    "train_set = datasets.MNIST('./data', train=True, download=True)\n",
    "test_set = datasets.MNIST('./data', train=False, download=True)\n",
    "\n",
    "train_ = train_set.data.numpy()\n",
    "train_label = train_set.targets.numpy()\n",
    "\n",
    "test_= test_set.data.numpy()\n",
    "test_label = test_set.targets.numpy()\n"
   ]
  },
  {
   "cell_type": "markdown",
   "id": "e312ff76",
   "metadata": {},
   "source": [
    "### ConvolutionLayer"
   ]
  },
  {
   "cell_type": "code",
   "execution_count": 296,
   "id": "1345949e",
   "metadata": {},
   "outputs": [],
   "source": [
    "class ConvolutionLayer:\n",
    "    \"\"\"\n",
    "    Perform Forward and Backward Convolution Operation\n",
    "    Input : Number of Filter , Shape , Learning Rate\n",
    "    \n",
    "    return : Convolved output\n",
    "    \n",
    "    \"\"\"\n",
    "    def __init__(self, num_filters, shape, lr):\n",
    "        \n",
    "        self.num_filters = num_filters\n",
    "        x,y,z = shape\n",
    "        self.kernels = np.random.randn(num_filters,x,y,z ) / x*y*z\n",
    "        self.learning_rate = lr\n",
    "\n",
    "    def Relu(self,X):\n",
    "        return np.maximum(X,0)\n",
    "\n",
    "\n",
    "    def forward_conv(self, input):\n",
    "        \"\"\"\n",
    "        Perform Forward Convolution\n",
    "        Input : Input Image of size 28 x 28 x 1 \n",
    "        Return : Convolved Output of size 28 x 28 x 4\n",
    "        \n",
    "        \"\"\"\n",
    "        \n",
    "        self.last_input = input\n",
    "        h, w ,_  = input.shape\n",
    "        \n",
    "        input2 = np.pad(input, ((2,2),(2,2),(0,0)) , mode = 'constant')\n",
    "        output = np.zeros((h, w, self.num_filters))\n",
    "        \n",
    "        for i in range(h):\n",
    "            for j in range(w):\n",
    "                \n",
    "                slice = input2[i:i+5,j:j+5]\n",
    "                output[i, j] = np.sum(slice * self.kernels)\n",
    "                \n",
    "        self.conv_out = output\n",
    "        # Apply Relu Activation\n",
    "        output = self.Relu(output)\n",
    "        \n",
    "        return output\n",
    "\n",
    "    def relu_prime(self,x):\n",
    "        return np.array(x >= 0)\n",
    "\n",
    "    \n",
    "    def backprop_conv(self, d_L_d_out):\n",
    "        \"\"\"\n",
    "        Perform Backward Convolution\n",
    "        \n",
    "        Input : output from the Backward Pooling operations \n",
    "        return : convolved backward output\n",
    "        \n",
    "        \"\"\"\n",
    "        d_L_d_filters = np.zeros(self.kernels.shape)\n",
    "        d_L_d_gradient = np.zeros(self.last_input.shape)\n",
    "\n",
    "        h,w,_ = self.last_input.shape \n",
    "\n",
    "        input_2 = np.pad(self.last_input,  ((2,2),(2,2),(0,0)), mode = 'constant')\n",
    "        d_L_d_gradient= np.pad(d_L_d_gradient,  ((2,2),(2,2),(0,0)), mode = 'constant')\n",
    "\n",
    "        for i in range(h):\n",
    "            for j in range(w):\n",
    "                for f in range(self.num_filters):\n",
    "                    \n",
    "                    slice = input_2[i:i+5,j:j+5]\n",
    "                    d_L_d_gradient[i:i+5,j:j+5, :] += self.kernels[f,:,:,:] * d_L_d_out[i, j, f]\n",
    "                    d_L_d_filters[f] += d_L_d_out[i, j, f] * slice\n",
    "\n",
    "        self.kernels -= self.learning_rate * d_L_d_filters\n",
    "        d_L_d_gradient = d_L_d_gradient[2:-2,2:-2,:]\n",
    "        d_L_d_gradient = self.relu_prime(d_L_d_gradient)\n",
    "        \n",
    "        return d_L_d_gradient"
   ]
  },
  {
   "cell_type": "markdown",
   "id": "8150629d",
   "metadata": {},
   "source": [
    "### Max Pooling Layer"
   ]
  },
  {
   "cell_type": "code",
   "execution_count": 297,
   "id": "5e07cf2a",
   "metadata": {},
   "outputs": [],
   "source": [
    "class Max_Pooling:\n",
    "    \"\"\"\n",
    "    Perform Pooling operations with 2 Pooling size and 1 stride\n",
    "    \"\"\"\n",
    "    \n",
    "    def forward_pool(self, input):\n",
    "        \"\"\"\n",
    "        Forward pooling operations\n",
    "        input : Input from the Convolution Layer\n",
    "        return : Pooling output \n",
    "        \"\"\"\n",
    "\n",
    "        self.last_input = input\n",
    "\n",
    "        h, w, num_filters = input.shape\n",
    "        new_h = h // 2\n",
    "        new_w = w // 2\n",
    "        output = np.zeros((new_h, new_w, num_filters))    \n",
    "\n",
    "\n",
    "        for i in range(new_h):\n",
    "            for j in range(new_w):\n",
    "\n",
    "                slice = self.last_input[(i * 2):(i * 2 + 2), (j * 2):(j * 2 + 2)]\n",
    "                output[i, j] = np.amax(slice, axis=(0, 1))\n",
    "\n",
    "        return output\n",
    "\n",
    "    def backprop_pool(self, d_L_d_out):\n",
    "        \"\"\"\n",
    "        Perform The Backward Propogation\n",
    "        Input : Output from then Dense layer \n",
    "        return : Backward Pooling output\n",
    "        \"\"\"\n",
    "        d_L_d_input = np.zeros(self.last_input.shape)\n",
    "\n",
    "        h, w, _ = self.last_input.shape\n",
    "        new_h = h // 2\n",
    "        new_w = w // 2\n",
    "\n",
    "        for i in range(new_h):\n",
    "            for j in range(new_w):\n",
    "\n",
    "                slice = self.last_input[(i * 2):(i * 2 + 2), (j * 2):(j * 2 + 2)]\n",
    "                h_new, w_new, f_new = slice.shape\n",
    "                amax = np.amax(slice, axis=(0, 1))\n",
    "\n",
    "                for i2 in range(h_new):\n",
    "                    for j2 in range(w_new):\n",
    "                        for f2 in range(f_new):\n",
    "                            if slice[i2, j2, f2] == amax[f2]:\n",
    "                                d_L_d_input[i * 2 + i2, j * 2 + j2, f2] = d_L_d_out[i, j, f2]\n",
    "\n",
    "        return d_L_d_input"
   ]
  },
  {
   "cell_type": "markdown",
   "id": "de40c661",
   "metadata": {},
   "source": [
    "### MLP layer"
   ]
  },
  {
   "cell_type": "code",
   "execution_count": 313,
   "id": "caf3d2e1",
   "metadata": {},
   "outputs": [],
   "source": [
    "class Dense:\n",
    "    \"\"\"\n",
    "    Perform Forward and Backward propogation on MLP layer\n",
    "    \n",
    "    \"\"\"\n",
    "    \n",
    "    def __init__(self, input_len,nodes, output_nodes, update_parameter, lr):\n",
    "        \n",
    "        \"\"\"\n",
    "        input: Input lenght from flatenning layer, hidden layer nodes, output nodes,\n",
    "                Update Parameter , learning rate\n",
    "        \"\"\"\n",
    "        input_len = 14*14*4\n",
    "        \n",
    "        self.weights1 = np.random.randn(input_len, nodes) / input_len\n",
    "        self.weights2 = np.random.randn(nodes, output_nodes) / input_len\n",
    "        \n",
    "        self.weights = np.random.randn(input_len, output_nodes) / input_len\n",
    "        self.biases = np.zeros(output_nodes)\n",
    "        \n",
    "        self.learning_rate = lr # Learning Rate\n",
    "        self.update_parameter = update_parameter # Update Parameter\n",
    "        \n",
    "        \n",
    "    def softmax(self, Z):\n",
    "        \"\"\"\n",
    "        Perform Softmax Operation\n",
    "        \"\"\"\n",
    "        out = np.exp(Z) / sum(np.exp(Z))\n",
    "        return out\n",
    "\n",
    "    def forward_mlp(self, input):\n",
    "        \"\"\"\n",
    "        Forward Propogation \n",
    "        input : Input Images\n",
    "        return : softmax activation output\n",
    "        \"\"\"\n",
    "        self.last_input_shape = input.shape\n",
    "\n",
    "        input = input.flatten()\n",
    "        self.bottle_neck = input\n",
    "        self.last_input = input\n",
    "\n",
    "        input_len, nodes = self.weights.shape\n",
    "\n",
    "        totals = np.dot(input, self.weights) + self.biases\n",
    "        self.last_totals = totals\n",
    "        \n",
    "        # output after softmax activation function\n",
    "        softmax_out = self.softmax(totals)\n",
    "        \n",
    "        return softmax_out\n",
    "\n",
    "    \n",
    "    def softmax_deriv(self, X,i):\n",
    "        \"\"\"\n",
    "        Perfrom The Derative of softmax layer for backpropogation\n",
    "        \"\"\"\n",
    "        t_exp = np.exp(X)\n",
    "\n",
    "        # Sum of all e^totals\n",
    "        S = np.sum(t_exp)\n",
    "\n",
    "        # Gradients of out[i] against totals\n",
    "        d_out_d_t = -t_exp[i] * t_exp / (S ** 2)\n",
    "        d_out_d_t[i] = t_exp[i] * (S - t_exp[i]) / (S ** 2)\n",
    "        return d_out_d_t\n",
    "        \n",
    "    def backprop_mlp(self, d_L_d_out):\n",
    "        \"\"\"\n",
    "        Perform Backpropogation on MLP layer\n",
    "        input : Output from the forward mlp layer\n",
    "        return : gradient to pooling layer for backward pooling\n",
    "        \n",
    "        \"\"\"\n",
    "        \n",
    "        for i, gradient in enumerate(d_L_d_out):\n",
    "            \n",
    "            if gradient != 0:\n",
    "                \n",
    "                d_out_d_t = self.softmax_deriv(self.last_totals,i)\n",
    "                # Gradients of totals against weights/biases/input\n",
    "                d_t_d_w = self.last_input\n",
    "                d_t_d_b = 1\n",
    "                d_t_d_inputs = self.weights\n",
    "\n",
    "\n",
    "                # Gradients of loss against totals\n",
    "                d_L_d_t = gradient * d_out_d_t\n",
    "\n",
    "                # Gradients of loss against weights/biases/input\n",
    "                d_L_d_w = d_t_d_w[np.newaxis].T @ d_L_d_t[np.newaxis]\n",
    "                d_L_d_b = d_L_d_t * d_t_d_b\n",
    "                d_L_d_inputs = d_t_d_inputs @ d_L_d_t\n",
    "\n",
    "                ######## UPDATE WEIGHT #######\n",
    "                \n",
    "                ## USING VANILLA SGD LEARNING RATE = 0.001\n",
    "                if(self.update_parameter == 'sgd_vanilla'):  \n",
    "                    self.weights -= self.learning_rate * d_L_d_w\n",
    "                    self.biases -= self.learning_rate * d_L_d_b\n",
    "\n",
    "                \n",
    "                # USING MOMENTUM SGD WITH LEARNING RATE = 0.001, MOMENTUM = 0.9\n",
    "                elif(self.update_parameter == 'sgd_momentum'):\n",
    "                    \n",
    "                    momentum = 0.9\n",
    "                    self.config = {}\n",
    "                    self.config.setdefault('learning_rate', self.learning_rate)\n",
    "                    self.config.setdefault('momentum', momentum)\n",
    "                    v = self.config.get('velocity', np.zeros_like(self.weights))\n",
    "                    next_w = None\n",
    "                    v = self.config['momentum'] * v - self.config['learning_rate'] * d_L_d_w\n",
    "                    next_w = self.weights + v\n",
    "                    self.config['velocity'] = v\n",
    "                    self.weights = next_w\n",
    "                \n",
    "                \n",
    "                # USING RMSPROP SGD LEARNING RATE 0.001, DECAY RATE = 0.9, \n",
    "                elif(self.update_parameter == 'sgd_rmsprop'):\n",
    "                    \n",
    "                    self.config = {}\n",
    "                    self.config.setdefault('learning_rate', self.learning_rate)\n",
    "                    self.config.setdefault('decay_rate', 0.9)\n",
    "                    self.config.setdefault('epsilon', 0.9)\n",
    "                    self.config.setdefault('cache', np.zeros_like(self.weights))\n",
    "\n",
    "                    next_x = None\n",
    "\n",
    "                    decay_rate = self.config['decay_rate']\n",
    "                    cache = self.config['cache']\n",
    "\n",
    "                    cache = decay_rate * cache + (1 - decay_rate) * d_L_d_w ** 2\n",
    "                    next_x = self.weights - self.config['learning_rate'] * d_L_d_w / (np.sqrt(cache) + self.config['epsilon'])\n",
    "\n",
    "                    self.config['cache'] = cache\n",
    "                    self.weights = next_x\n",
    "\n",
    "                else:\n",
    "                    print(\"NO SGD GIVEN\")\n",
    "\n",
    "\n",
    "        return d_L_d_inputs.reshape(self.last_input_shape)"
   ]
  },
  {
   "cell_type": "markdown",
   "id": "5a6b1680",
   "metadata": {},
   "source": [
    "### Fully Connected Layer"
   ]
  },
  {
   "cell_type": "code",
   "execution_count": 299,
   "id": "f5afa4f9",
   "metadata": {
    "scrolled": false
   },
   "outputs": [],
   "source": [
    "class Fully_Connected_Layer:\n",
    "    \"\"\"\n",
    "    hERE WE WILL PERFORM THE FULLY CONNECTED CONVOLUTION LAYER WITH BACKPROPOGATION\n",
    "    \n",
    "    \"\"\"\n",
    "    \n",
    "    def __init__(self,epoch, update_parameter, learning_rate ):\n",
    "        \"\"\"\n",
    "        input:\n",
    "        epoch number\n",
    "        Update parameter : 'sgd_vanilla', 'sgd_momentum', 'sgd_rmsprop'\n",
    "        Learning Rate : 0.001\n",
    "        \"\"\"\n",
    "        \n",
    "        self.epoch = epoch\n",
    "        self.conv = ConvolutionLayer(4, (5,5,1), 0.001)                  # 28x28x1 -> 28x28x4\n",
    "        self.maxpool = Max_Pooling() \n",
    "        self.conv2 = ConvolutionLayer(4, (5,5,4),0.001)                  # 26x26x8 -> 13x13x8\n",
    "        self.maxpool2 = Max_Pooling()                  # 26x26x8 -> 13x13x8\n",
    "        self.Dense = Dense(7*7*4, 49, 10 , update_parameter , learning_rate) # 13x13x8 -> 10\n",
    "\n",
    "    \n",
    "    \n",
    "    def one_hot(self, label):\n",
    "        \"\"\"\n",
    "        ONE - HOT encoder to make an 1x10 array of true label\n",
    "        input : label\n",
    "        return : 1x10 array of with the index label as 1 and other 0\n",
    "        \"\"\"\n",
    "        return np.eye(10)[label]\n",
    "\n",
    "    def forward(self,image, y_true):\n",
    "        \"\"\"\n",
    "        Perform Forward Operation for Convolution , Pooling and Forward MLP\n",
    "        \n",
    "        input : Image and its label\n",
    "        return : activation_map,output convolution , Cross-Entropy Loss, Accuracy \n",
    "        \n",
    "        \"\"\"\n",
    "        \n",
    "        ##### FORWARD OPERATIONS #########\n",
    "        \n",
    "        conv_layer_output = self.conv.forward_conv((image / 255) - 0.5)\n",
    "        pooling_layer_output = self.maxpool.forward_pool(conv_layer_output)\n",
    "        conv_layer_output_ = self.conv2.forward_conv(pooling_layer_output)\n",
    "        pooling_layer_output_ = self.maxpool2.forward_pool(conv_layer_output_)\n",
    "        forward_layer_out = self.Dense.forward_mlp(pooling_layer_output)\n",
    "\n",
    "        \n",
    "        ##### ONE-HOT ENCODER #######\n",
    "        y = self.one_hot(y_true)\n",
    "        \n",
    "        \n",
    "        ##### CROSS ENTROPY LOSS #####\n",
    "        cross_entropy_loss = -np.log(y[y_true]*forward_layer_out[y_true])\n",
    "        \n",
    "        \n",
    "        #### ACCURACY #######\n",
    "        # if the index of the highest probability is equal to label then 1 else zero\n",
    "        accuracy = 1 if np.argmax(forward_layer_out) == y_true else 0\n",
    "        pooling_layer_output\n",
    "        \n",
    "        return forward_layer_out, cross_entropy_loss, accuracy\n",
    "    \n",
    "    def backward(self, gradient):\n",
    "        \"\"\"\n",
    "        Perform Backward Operations\n",
    "        \n",
    "        Input : Gradient\n",
    "        return: Output after performing the backward propogation\n",
    "        \"\"\"\n",
    "        gradient = self.Dense.backprop_mlp(gradient)\n",
    "        gradient_ = self.maxpool2.backprop_pool(gradient)\n",
    "        gradient_ = self.conv2.backprop_conv(gradient)\n",
    "        gradient = self.maxpool.backprop_pool(gradient)\n",
    "        gradient = self.conv.backprop_conv(gradient)\n",
    "\n",
    "        return gradient\n",
    "    \n",
    "    \n",
    "\n",
    "    def train(self,image, y_true):\n",
    "        \"\"\"\n",
    "        Perform Backpropogation Operation for Dense, pooling ,convolution Layer\n",
    "        \n",
    "        Input: Image and Label Pair\n",
    "        \n",
    "        Return: activation_map, Loss and accuracy\n",
    "        \n",
    "        \n",
    "        \"\"\"\n",
    "        ### GET OUTPUT FROM FORWARD LAYER ###\n",
    "        forward_layer_out, cross_entropy_loss, accuracy = self.forward(image, y_true)\n",
    "\n",
    "        gradient = np.zeros(10)\n",
    "        gradient[y_true] = -1 / forward_layer_out[y_true]\n",
    "        \n",
    "        ### GET OUTPUT FROM BACKWARD LAYER ###\n",
    "        gradient = self.backward(gradient)\n",
    "        \n",
    "        return cross_entropy_loss, accuracy\n",
    "\n",
    "\n",
    "\n",
    "    def FCL(self,train_images, train_labels, test_images, test_labels):\n",
    "        \n",
    "        \"\"\"\n",
    "        Perform the Training and testing of CNN\n",
    "        \n",
    "        Input : Training and Testing images and labels\n",
    "        return :  Training and Testing Loss \n",
    "        \n",
    "        \"\"\"\n",
    "        num_train = len(train_images)\n",
    "        num_test = len(test_images)\n",
    "\n",
    "        cross_entropy_losses_train = np.zeros(self.epoch)\n",
    "        cross_entropy_losses_test = np.zeros(self.epoch)\n",
    "    \n",
    "        print('Training the CNN - ')\n",
    "\n",
    "        for epoch in range(self.epoch):\n",
    "            \n",
    "            print(f'Epoch : {epoch + 1 }')\n",
    "            \n",
    "            #shuffle the images and label pair\n",
    "            shuffle_data = np.random.permutation(len(train_images))\n",
    "            train_images = train_images[shuffle_data]\n",
    "            train_labels = train_labels[shuffle_data]\n",
    "            \n",
    "            ####### TRAIN ######\n",
    "            mean_loss = []\n",
    "            cross_entropy_loss = 0\n",
    "            correct_result = 0\n",
    "            for i, (image, y_true) in enumerate(zip(train_images, train_labels)):\n",
    "                \n",
    "                # MIN - BATCH GRADIENT DESCENT\n",
    "                if i % 100 == 99:\n",
    "                    mean_loss.append(cross_entropy_loss/100)\n",
    "                    cross_entropy_loss = 0\n",
    "#                    correct_result = 0\n",
    "                \n",
    "                loss, accuracy = self.train(image, y_true)\n",
    "                cross_entropy_loss += loss\n",
    "                correct_result += accuracy\n",
    "            \n",
    "            print(f\"Train Loss:{np.mean(mean_loss)}, \\t Train Accuracy: {correct_result/num_train}\")\n",
    "            cross_entropy_losses_train[epoch] = np.mean(mean_loss)\n",
    "\n",
    "\n",
    "            cross_entropy_loss_tst = 0\n",
    "            correct_result = 0\n",
    "            mean_test_loss = []\n",
    "       \n",
    "            for i,(image, y_true) in enumerate(zip(test_images, test_labels)):\n",
    "                mean_test = []\n",
    "                if( i%100 == 99):\n",
    "                    mean_test_loss.append(cross_entropy_loss_tst/100)\n",
    "                    cross_entropy_loss_tst = 0\n",
    "                    \n",
    "                _, l, accuracy = self.forward(image, y_true)\n",
    "                cross_entropy_loss_tst += l\n",
    "                correct_result += accuracy\n",
    "            \n",
    "            print(f\"Test Loss : {np.mean(mean_test_loss)}, \\t Test Accuracy : {correct_result/num_test}\")\n",
    "            cross_entropy_losses_test[epoch] = np.mean(mean_test_loss)\n",
    "        \n",
    "        bottleneck = self.Dense.bottle_neck\n",
    "        accuracy  = correct_result / num_test\n",
    "        activation_map = self.conv.conv_out\n",
    "        return bottleneck,accuracy , activation_map,cross_entropy_losses_train, cross_entropy_losses_test"
   ]
  },
  {
   "cell_type": "markdown",
   "id": "710faafb",
   "metadata": {},
   "source": [
    "### Reshape  dataset "
   ]
  },
  {
   "cell_type": "code",
   "execution_count": 300,
   "id": "0fc513eb",
   "metadata": {},
   "outputs": [],
   "source": [
    "\n",
    "train_images = train_[:1000].reshape(-1,28,28,1)\n",
    "train_labels = train_label[:1000]\n",
    "test_images = test_[:1000].reshape(-1,28,28,1)\n",
    "test_labels = test_label[:1000]"
   ]
  },
  {
   "cell_type": "code",
   "execution_count": null,
   "id": "fcf8d621",
   "metadata": {},
   "outputs": [],
   "source": []
  },
  {
   "cell_type": "markdown",
   "id": "5c4d97c7",
   "metadata": {},
   "source": [
    "### Implement Fully Connected Convolution Layer with BackPropogation"
   ]
  },
  {
   "cell_type": "code",
   "execution_count": 301,
   "id": "337ce6a8",
   "metadata": {
    "scrolled": false
   },
   "outputs": [
    {
     "name": "stdout",
     "output_type": "stream",
     "text": [
      "Training the CNN - \n",
      "Epoch : 1\n",
      "Train Loss:1.5346995841517441, \t Train Accuracy: 0.592\n",
      "Test Loss : 0.8652346864647045, \t Test Accuracy : 0.715\n",
      "Epoch : 2\n",
      "Train Loss:0.6300493797447674, \t Train Accuracy: 0.805\n",
      "Test Loss : 0.8289879552746543, \t Test Accuracy : 0.728\n",
      "Epoch : 3\n",
      "Train Loss:0.5720628889201473, \t Train Accuracy: 0.816\n",
      "Test Loss : 0.8905204541573278, \t Test Accuracy : 0.703\n",
      "Epoch : 4\n",
      "Train Loss:0.5816495224700258, \t Train Accuracy: 0.827\n",
      "Test Loss : 1.2026249756195888, \t Test Accuracy : 0.64\n",
      "Epoch : 5\n",
      "Train Loss:0.608352916554729, \t Train Accuracy: 0.81\n",
      "Test Loss : 1.1404484687480774, \t Test Accuracy : 0.668\n"
     ]
    }
   ],
   "source": [
    "\n",
    "epoch = 5\n",
    "update_parameter = \"sgd_vanilla\"\n",
    "learning_rate = 0.001\n",
    "\n",
    "\n",
    "Fully_connected = Fully_Connected_Layer(epoch,update_parameter, learning_rate)\n",
    "bottleneck, accuracy , activation_map , cross_entropy_losses, cross_entropy_losses_test =  Fully_connected.FCL(train_images,\n",
    "                                                                                        train_labels, test_images, test_labels)"
   ]
  },
  {
   "cell_type": "code",
   "execution_count": null,
   "id": "3c439c99",
   "metadata": {},
   "outputs": [],
   "source": []
  },
  {
   "cell_type": "markdown",
   "id": "4cf8b087",
   "metadata": {},
   "source": [
    "### Momentum. learning rate = 0.001, momentum = 0.9"
   ]
  },
  {
   "cell_type": "code",
   "execution_count": 311,
   "id": "ff696d8c",
   "metadata": {},
   "outputs": [
    {
     "name": "stdout",
     "output_type": "stream",
     "text": [
      "Training the CNN - \n",
      "Epoch : 1\n",
      "Train Loss:0.9831074217303548, \t Train Accuracy: 0.69\n",
      "Test Loss : 0.7251301261519745, \t Test Accuracy : 0.77\n",
      "Epoch : 2\n",
      "Train Loss:0.5399895418556123, \t Train Accuracy: 0.84\n",
      "Test Loss : 1.0213266065314324, \t Test Accuracy : 0.66\n",
      "Epoch : 3\n",
      "Train Loss:0.5220261954828489, \t Train Accuracy: 0.847\n",
      "Test Loss : 0.794494494729707, \t Test Accuracy : 0.768\n",
      "Epoch : 4\n",
      "Train Loss:0.4998837457353463, \t Train Accuracy: 0.855\n",
      "Test Loss : 0.9318207307337205, \t Test Accuracy : 0.704\n",
      "Epoch : 5\n",
      "Train Loss:0.4796016749171887, \t Train Accuracy: 0.849\n",
      "Test Loss : 1.047364617749915, \t Test Accuracy : 0.708\n"
     ]
    }
   ],
   "source": [
    "\n",
    "epoch = 5\n",
    "update_parameter = \"sgd_momentum\"\n",
    "learning_rate = 0.001\n",
    "\n",
    "\n",
    "Fully_connected = Fully_Connected_Layer(epoch,update_parameter, learning_rate)\n",
    "bottleneck_, accuracy_ , activation_map_ , cross_entropy_losses_, cross_entropy_losses_test_ =  Fully_connected.FCL(train_images,\n",
    "                                                                                        train_labels, test_images, test_labels)"
   ]
  },
  {
   "cell_type": "code",
   "execution_count": null,
   "id": "5267ed95",
   "metadata": {},
   "outputs": [],
   "source": []
  },
  {
   "cell_type": "markdown",
   "id": "323b6189",
   "metadata": {},
   "source": [
    "### RMSProp. learning rate = 0.001, decay rate = 0.9"
   ]
  },
  {
   "cell_type": "code",
   "execution_count": 314,
   "id": "901e6d70",
   "metadata": {},
   "outputs": [
    {
     "name": "stdout",
     "output_type": "stream",
     "text": [
      "Training the CNN - \n",
      "Epoch : 1\n",
      "Train Loss:1.1904824096960525, \t Train Accuracy: 0.602\n",
      "Test Loss : 0.8617275939389589, \t Test Accuracy : 0.704\n",
      "Epoch : 2\n",
      "Train Loss:0.5596209747605629, \t Train Accuracy: 0.82\n",
      "Test Loss : 0.6760839447902652, \t Test Accuracy : 0.778\n",
      "Epoch : 3\n",
      "Train Loss:0.45317992606890123, \t Train Accuracy: 0.861\n",
      "Test Loss : 0.620931897027533, \t Test Accuracy : 0.799\n",
      "Epoch : 4\n",
      "Train Loss:0.4068462988492554, \t Train Accuracy: 0.878\n",
      "Test Loss : 0.6209048455979419, \t Test Accuracy : 0.808\n",
      "Epoch : 5\n",
      "Train Loss:0.36630853837370625, \t Train Accuracy: 0.892\n",
      "Test Loss : 0.6424714575148582, \t Test Accuracy : 0.8\n"
     ]
    }
   ],
   "source": [
    "\n",
    "epoch = 5\n",
    "update_parameter = \"sgd_rmsprop\"\n",
    "learning_rate = 0.001\n",
    "\n",
    "\n",
    "Fully_connected = Fully_Connected_Layer(epoch,update_parameter, learning_rate)\n",
    "bottleneck__, accuracy__ , activation_map__ , cross_entropy_losses__, cross_entropy_losses_test__ =  Fully_connected.FCL(train_images,\n",
    "                                                                                        train_labels, test_images, test_labels)"
   ]
  },
  {
   "cell_type": "code",
   "execution_count": null,
   "id": "4416c8bf",
   "metadata": {},
   "outputs": [],
   "source": []
  },
  {
   "cell_type": "markdown",
   "id": "0ddf4a40",
   "metadata": {},
   "source": [
    "### Training Losses"
   ]
  },
  {
   "cell_type": "code",
   "execution_count": 302,
   "id": "1661e73f",
   "metadata": {},
   "outputs": [
    {
     "name": "stdout",
     "output_type": "stream",
     "text": [
      "[1.53469958 0.63004938 0.57206289 0.58164952 0.60835292]\n"
     ]
    }
   ],
   "source": [
    "print(cross_entropy_losses)"
   ]
  },
  {
   "cell_type": "code",
   "execution_count": 303,
   "id": "10feda71",
   "metadata": {
    "scrolled": true
   },
   "outputs": [
    {
     "data": {
      "image/png": "[encoded data removed]",
      "text/plain": [
       "<Figure size 432x288 with 1 Axes>"
      ]
     },
     "metadata": {
      "needs_background": "light"
     },
     "output_type": "display_data"
    }
   ],
   "source": [
    "plt.plot(cross_entropy_losses)\n",
    "plt.title(\"Training Error\")\n",
    "plt.xlabel('Average Loss at each epoch')\n",
    "plt.ylabel('Cross Entropy Loss')\n",
    "plt.show()\n"
   ]
  },
  {
   "cell_type": "markdown",
   "id": "dc8eeb2f",
   "metadata": {},
   "source": [
    "### Testing Losses"
   ]
  },
  {
   "cell_type": "code",
   "execution_count": 304,
   "id": "e0f404e7",
   "metadata": {},
   "outputs": [
    {
     "name": "stdout",
     "output_type": "stream",
     "text": [
      "[0.86523469 0.82898796 0.89052045 1.20262498 1.14044847]\n"
     ]
    }
   ],
   "source": [
    "print(cross_entropy_losses_test)"
   ]
  },
  {
   "cell_type": "code",
   "execution_count": 305,
   "id": "095a4e63",
   "metadata": {
    "scrolled": true
   },
   "outputs": [
    {
     "data": {
      "image/png": "[encoded data removed]",
      "text/plain": [
       "<Figure size 432x288 with 1 Axes>"
      ]
     },
     "metadata": {
      "needs_background": "light"
     },
     "output_type": "display_data"
    }
   ],
   "source": [
    "plt.plot(cross_entropy_losses_test)\n",
    "plt.title(\"Testing Error\")\n",
    "plt.xlabel('Average Loss at each epoch')\n",
    "plt.ylabel('Cross Entropy Loss')\n",
    "plt.show()\n"
   ]
  },
  {
   "cell_type": "code",
   "execution_count": null,
   "id": "4429bf8d",
   "metadata": {},
   "outputs": [],
   "source": []
  },
  {
   "cell_type": "markdown",
   "id": "74880345",
   "metadata": {},
   "source": [
    "### Activation Map"
   ]
  },
  {
   "cell_type": "code",
   "execution_count": 306,
   "id": "efffee95",
   "metadata": {},
   "outputs": [
    {
     "data": {
      "image/png": "[encoded data removed]",
      "text/plain": [
       "<Figure size 432x288 with 1 Axes>"
      ]
     },
     "metadata": {
      "needs_background": "light"
     },
     "output_type": "display_data"
    },
    {
     "data": {
      "image/png": "[encoded data removed]",
      "text/plain": [
       "<Figure size 432x288 with 1 Axes>"
      ]
     },
     "metadata": {
      "needs_background": "light"
     },
     "output_type": "display_data"
    },
    {
     "data": {
      "image/png": "[encoded data removed]",
      "text/plain": [
       "<Figure size 432x288 with 1 Axes>"
      ]
     },
     "metadata": {
      "needs_background": "light"
     },
     "output_type": "display_data"
    },
    {
     "data": {
      "image/png": "[encoded data removed]",
      "text/plain": [
       "<Figure size 432x288 with 1 Axes>"
      ]
     },
     "metadata": {
      "needs_background": "light"
     },
     "output_type": "display_data"
    }
   ],
   "source": [
    "for i in range(4):\n",
    "    plt.imshow(activation_map[:,:,i])\n",
    "    plt.show()"
   ]
  },
  {
   "cell_type": "code",
   "execution_count": null,
   "id": "f2c44949",
   "metadata": {
    "scrolled": false
   },
   "outputs": [],
   "source": []
  },
  {
   "cell_type": "markdown",
   "id": "94524043",
   "metadata": {},
   "source": [
    "### Accuracy"
   ]
  },
  {
   "cell_type": "code",
   "execution_count": 307,
   "id": "94c78a50",
   "metadata": {},
   "outputs": [
    {
     "name": "stdout",
     "output_type": "stream",
     "text": [
      "Accuracy is  0.668\n"
     ]
    }
   ],
   "source": [
    "print(\"Accuracy is \",accuracy)"
   ]
  },
  {
   "cell_type": "markdown",
   "id": "5abe57e7",
   "metadata": {},
   "source": [
    "## tSNE"
   ]
  },
  {
   "cell_type": "code",
   "execution_count": 308,
   "id": "bda8a03a",
   "metadata": {},
   "outputs": [],
   "source": [
    "from sklearn.manifold import TSNE"
   ]
  },
  {
   "cell_type": "code",
   "execution_count": 309,
   "id": "77dadb59",
   "metadata": {},
   "outputs": [],
   "source": [
    "X_embedded = TSNE(n_components=2,init='random').fit_transform(bottleneck.reshape(-1,1))\n"
   ]
  },
  {
   "cell_type": "code",
   "execution_count": 310,
   "id": "2f4d5e42",
   "metadata": {},
   "outputs": [
    {
     "data": {
      "text/plain": [
       "<matplotlib.collections.PathCollection at 0x20377b0b1d0>"
      ]
     },
     "execution_count": 310,
     "metadata": {},
     "output_type": "execute_result"
    },
    {
     "data": {
      "image/png": "[encoded data removed]",
      "text/plain": [
       "<Figure size 432x288 with 1 Axes>"
      ]
     },
     "metadata": {
      "needs_background": "light"
     },
     "output_type": "display_data"
    }
   ],
   "source": [
    "plt.scatter(X_embedded[:,0],X_embedded[:,1])"
   ]
  },
  {
   "cell_type": "code",
   "execution_count": null,
   "id": "7606f36e",
   "metadata": {},
   "outputs": [],
   "source": []
  },
  {
   "cell_type": "code",
   "execution_count": null,
   "id": "12662dad",
   "metadata": {},
   "outputs": [],
   "source": []
  }
 ],
 "metadata": {
  "kernelspec": {
   "display_name": "Python 3 (ipykernel)",
   "language": "python",
   "name": "python3"
  },
  "language_info": {
   "codemirror_mode": {
    "name": "ipython",
    "version": 3
   },
   "file_extension": ".py",
   "mimetype": "text/x-python",
   "name": "python",
   "nbconvert_exporter": "python",
   "pygments_lexer": "ipython3",
   "version": "3.7.3"
  }
 },
 "nbformat": 4,
 "nbformat_minor": 5
}
