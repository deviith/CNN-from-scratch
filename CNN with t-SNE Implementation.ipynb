{
 "cells": [
  {
   "cell_type": "markdown",
   "metadata": {},
   "source": [
    "# HW 5"
   ]
  },
  {
   "cell_type": "markdown",
   "metadata": {},
   "source": [
    "### Import Libraries"
   ]
  },
  {
   "cell_type": "code",
   "execution_count": 1,
   "metadata": {
    "_uuid": "46ade2a1807aadd90e577c496d77d3df507dad88"
   },
   "outputs": [],
   "source": [
    "import numpy as np \n",
    "import matplotlib.pyplot as plt\n",
    "%matplotlib inline"
   ]
  },
  {
   "cell_type": "code",
   "execution_count": 2,
   "metadata": {
    "_uuid": "a87c9de979fb54874e3a047d40cc024a8b0f5e98"
   },
   "outputs": [],
   "source": [
    "import torch, torchvision\n",
    "import torch.nn as nn\n",
    "import torch.nn.functional as F\n",
    "import torch.utils.data\n",
    "\n",
    "from torch.autograd import Variable\n",
    "\n",
    "from torch import optim\n",
    "from torchvision.transforms import ToTensor"
   ]
  },
  {
   "cell_type": "code",
   "execution_count": null,
   "metadata": {
    "_uuid": "0b3d551a62defaadd37e681511ebc5fc70ac944d"
   },
   "outputs": [],
   "source": []
  },
  {
   "cell_type": "markdown",
   "metadata": {
    "_uuid": "9baaa52b6b9b6b8f8287a10fcc801606848fb726"
   },
   "source": [
    "## Data loader"
   ]
  },
  {
   "cell_type": "markdown",
   "metadata": {},
   "source": [
    "here we have imported the training and testing data\n",
    "</br> we have taken 100 Training sample batch  and 10 testing samples batch"
   ]
  },
  {
   "cell_type": "code",
   "execution_count": 3,
   "metadata": {
    "_uuid": "5e84347012cd6abc2f6f46299aab08b0c89563ee"
   },
   "outputs": [],
   "source": [
    "from torch.utils.data import DataLoader\n",
    "import torchvision.datasets as datasets\n",
    "\n",
    "from torchvision import datasets, transforms\n",
    "\n",
    "T = torchvision.transforms.Compose([\n",
    "        torchvision.transforms.ToTensor()\n",
    "    ])\n",
    "\n",
    "train_d = datasets.MNIST('./data', train=True, download=True, transform = T )\n",
    "val_d = datasets.MNIST('./data', train=False, download=True, transform = T)\n",
    "\n",
    "num_batch_train = 100\n",
    "\n",
    "num_batch_test = 10\n",
    "\n",
    "train_data = torch.utils.data.DataLoader(train_d, batch_size = num_batch_train, shuffle=True)\n",
    "test_data = torch.utils.data.DataLoader(val_d , batch_size = num_batch_test ,shuffle=False)"
   ]
  },
  {
   "cell_type": "code",
   "execution_count": 4,
   "metadata": {},
   "outputs": [
    {
     "data": {
      "text/plain": [
       "<matplotlib.image.AxesImage at 0x16db8e31ba8>"
      ]
     },
     "execution_count": 4,
     "metadata": {},
     "output_type": "execute_result"
    },
    {
     "data": {
      "image/png": "[encoded data removed]",
      "text/plain": [
       "<Figure size 432x288 with 1 Axes>"
      ]
     },
     "metadata": {
      "needs_background": "light"
     },
     "output_type": "display_data"
    }
   ],
   "source": [
    "plt.imshow(train_d[0][0][0],cmap = 'gray')"
   ]
  },
  {
   "cell_type": "code",
   "execution_count": null,
   "metadata": {},
   "outputs": [],
   "source": []
  },
  {
   "cell_type": "markdown",
   "metadata": {},
   "source": [
    "### CNN "
   ]
  },
  {
   "cell_type": "code",
   "execution_count": 5,
   "metadata": {
    "_uuid": "c669e5f557724154d9f4f5f8b5d0d6c9b676d551",
    "scrolled": false
   },
   "outputs": [
    {
     "name": "stdout",
     "output_type": "stream",
     "text": [
      "CNN(\n",
      "  (conv1): Conv2d(1, 4, kernel_size=(5, 5), stride=(1, 1), padding=(2, 2))\n",
      "  (relu1): ReLU()\n",
      "  (maxpool1): MaxPool2d(kernel_size=2, stride=2, padding=0, dilation=1, ceil_mode=False)\n",
      "  (conv2): Conv2d(4, 4, kernel_size=(5, 5), stride=(1, 1), padding=(2, 2))\n",
      "  (relu2): ReLU()\n",
      "  (maxpool2): MaxPool2d(kernel_size=2, stride=2, padding=0, dilation=1, ceil_mode=False)\n",
      "  (flatten): Flatten(start_dim=1, end_dim=-1)\n",
      "  (fullyconnected1): Linear(in_features=196, out_features=49, bias=True)\n",
      "  (relumlp): ReLU()\n",
      "  (fullyconnected2): Linear(in_features=49, out_features=10, bias=True)\n",
      ")\n"
     ]
    }
   ],
   "source": [
    "class CNN(nn.Module):\n",
    "    \n",
    "    def __init__(self):\n",
    "        \"\"\"\n",
    "        Here We are initializing all the convolution Layer with Kernel Size 5*5*4 keeping the dimension same,\n",
    "        Max Pool Layer with stride 2,\n",
    "        Hidden Layer 1 with  49 Nodes\n",
    "        Output Layer with 10 Nodes\n",
    "        \n",
    "        \"\"\"\n",
    "        super(CNN, self).__init__()\n",
    "        \n",
    "        # Convolution Layer 1 with input channel =1 , output channels  = 4 , Kernel Size = 5*5 , Padding as 2\n",
    "        self.conv1 = nn.Conv2d(in_channels=1, out_channels=4, kernel_size=5, stride=1, padding=2)\n",
    "        # ReLU activation\n",
    "        self.relu1 = nn.ReLU()\n",
    "        \n",
    "        # Max Pooling with Size = 2 and stride = 2\n",
    "        self.maxpool1 = nn.MaxPool2d(kernel_size=2, stride = 2)\n",
    "        \n",
    "        # Convolution Layer 2 with input channel =4 , output channels  = 4 , Kernel Size = 5*5 , Padding as 2\n",
    "        self.conv2 = nn.Conv2d(in_channels=4, out_channels=4, kernel_size=5, stride=1, padding=2)\n",
    "        self.relu2 = nn.ReLU()\n",
    "        \n",
    "        # Max Pooling with Size = 2 and stride = 2\n",
    "        self.maxpool2 = nn.MaxPool2d(kernel_size=2, stride = 2)\n",
    "        \n",
    "        \n",
    "        # Flatten Layer:- 7x7x4 --> 196x1\n",
    "        self.flatten = nn.Flatten()\n",
    "        \n",
    "        # Hidden Layer 1 with 49 Node \n",
    "        self.fullyconnected1 = nn.Linear(7*7*4, 49)\n",
    "        # Relu Activation\n",
    "        self.relumlp = nn.ReLU()\n",
    "        \n",
    "        # Hidden Layer 2 with 10 Output Nodes\n",
    "        self.fullyconnected2 = nn.Linear(49, 10)\n",
    "\n",
    "        \n",
    "    def forward(self, out):\n",
    "        \"\"\"\n",
    "        Convolution layer 1 --> Relu --> Maxpooling Layer 1 --> Convolution Layer 2 --> Relu --> MaxPooling Layer 2\n",
    "            --> Flattening Layer --> Hidden Layer 1 --> ReLU --> Softmax --> Output (1*10)\n",
    "            \n",
    "        Input:- Ouptput from the previous Layer\n",
    "        Return :- FCL output\n",
    "            \n",
    "        \"\"\"\n",
    "        \n",
    "        \n",
    "        out = self.conv1(out)# Convolution Layer Output 1\n",
    "        self.activation1=out# Activation Layer 1 \n",
    "        out = self.relu1(out)# ReLU output\n",
    "        out = self.maxpool1(out)# MaxPool Output\n",
    "        \n",
    "        \n",
    "        out = self.conv2(out) # Convolution Layer output 2 \n",
    "        self.activation2=out# Activation Layer 2\n",
    "        out = self.relu2(out) \n",
    "        out = self.maxpool2(out)\n",
    "        \n",
    "        \n",
    "        out = out.view(out.size(0), -1)# Flattening Layer Output\n",
    "        self.bottleneck=out # Bottleneck Output \n",
    "        \n",
    "        out = self.fullyconnected1(out)# Hidden Layer  1\n",
    "        \n",
    "        out = self.relumlp(out)\n",
    "        out=self.fullyconnected2(out) # Output Layer 2\n",
    "        \n",
    "        # SOFTMAX\n",
    "        out = F.log_softmax(out, dim = 1)\n",
    "        \n",
    "        return out\n",
    "\n",
    "\n",
    "    \n",
    "    \n",
    "cnn = CNN()\n",
    "print(cnn)\n",
    "\n"
   ]
  },
  {
   "cell_type": "code",
   "execution_count": 6,
   "metadata": {},
   "outputs": [],
   "source": [
    "activation_map = []\n",
    "bottleneck1 = []\n",
    "bottleneck2 = []\n",
    "\n",
    "def train_test(model,optimizer_fun, train_data, n_epoch):\n",
    "    \"\"\"\n",
    "    Input:-\n",
    "        Train and test the Model for n_epoch\n",
    "        Model : CNN layer\n",
    "        Loss : Cross-Entropy loss\n",
    "        Optimizer : 'Vanilla SGD', ' Momentum' , 'RMS prop'\n",
    "        Training Set : train_data\n",
    "        \n",
    "    Return :- \n",
    "    \n",
    "        Testing and Training accuracies and loss\n",
    "    \"\"\"\n",
    "\n",
    "    global activation_map\n",
    "    global bottleneck1\n",
    "    global bottleneck2\n",
    "\n",
    "    \n",
    "    error = nn.CrossEntropyLoss()\n",
    "    \n",
    "    if optimizer_fun == 'vanilla SGD':\n",
    "        optimizer =torch.optim.SGD(model.parameters(), lr=0.001)\n",
    "    \n",
    "    elif optimizer_fun =='momentum':\n",
    "        \n",
    "        optimizer =torch.optim.SGD(model.parameters(), lr=0.001,momentum=0.9)\n",
    "        \n",
    "    elif optimizer_fun == 'RMS prop':\n",
    "        \n",
    "        optimizer =torch.optim.RMSprop(model.parameters(), lr=0.01, alpha=0.99, eps=1e-08)\n",
    "    \n",
    "    else:\n",
    "        print(\"USE Proper Optimizer Function\")\n",
    "        print(\"Default Vanilla SGD is selected\")\n",
    "        optimizer =torch.optim.SGD(model.parameters(), lr=0.001)\n",
    "        \n",
    "\n",
    "    EPOCHS = n_epoch\n",
    "    \n",
    "    \n",
    "    losses_train  =  np.zeros(EPOCHS)\n",
    "    accuracies_train = np.zeros(EPOCHS)\n",
    "    losses_test = np.zeros(EPOCHS)\n",
    "    accuracies_test = np.zeros(EPOCHS)\n",
    "    \n",
    "    for epoch in range(EPOCHS):\n",
    "        iter = 0\n",
    "        \n",
    "        #### TRAINING SET #####\n",
    "        print('EPOCH: ', epoch+1)\n",
    "\n",
    "        print(\"Training Set\", end = \" \")\n",
    "\n",
    "        acc = []\n",
    "        loss_ = []\n",
    "        \n",
    "        for image, label in train_data:\n",
    "            \n",
    "            var_image = Variable(image).float()\n",
    "            var_label = Variable(label)\n",
    "            \n",
    "            optimizer.zero_grad()\n",
    "            # Train Model \n",
    "            output = model(var_image)\n",
    "            \n",
    "            # Get Cross Entropy Loss\n",
    "            loss = error(output, var_label)\n",
    "            \n",
    "            # BackPropogation\n",
    "            loss.backward()\n",
    "            \n",
    "            optimizer.step()\n",
    "            predicted = torch.max(output.data, 1)[1] \n",
    "\n",
    "            iter += 1\n",
    "            \n",
    "            if(iter %100) == 0:\n",
    "                correct = 0\n",
    "                total = 0\n",
    "                total += var_label.size(0)\n",
    "                correct += (predicted == var_label).sum()\n",
    "               \n",
    "                accuracy = 100 * correct / total\n",
    "                acc.append(accuracy.item())\n",
    "                loss_.append(loss.data.item())\n",
    "                \n",
    "                \n",
    "        # Save Mean Accuracy and Loss for Each Epoch\n",
    "        accuracies_train[epoch] = np.mean(acc)\n",
    "        losses_train[epoch] = np.mean(loss_)\n",
    "                       \n",
    "        print('Loss:',losses_train[epoch],', Accuracy:',accuracies_train[epoch])\n",
    "        \n",
    "\n",
    "        ###### Testing #######\n",
    "        print(\"Testing Set\", end = \" \")\n",
    "        acc = []\n",
    "        loss_ = []\n",
    "        correct = 0\n",
    "        total = 0\n",
    "        \n",
    "        for image, label in test_data:\n",
    "            \n",
    "            var_image = Variable(image).float()\n",
    "            var_label = Variable(label)\n",
    "            output = model(var_image)\n",
    "            loss = error(output, var_label)\n",
    "            predicted = torch.max(output.data, 1)[1] \n",
    "            \n",
    "            total += var_label.size(0)\n",
    "            correct += (predicted == var_label).sum()\n",
    "            accuracy = 100 * correct / total\n",
    "            acc.append(accuracy.item())\n",
    "            loss_.append(loss.data.item())\n",
    "            \n",
    "        \n",
    "        accuracies_test[epoch] = np.mean(acc)\n",
    "        losses_test[epoch] = np.mean(loss_)\n",
    "        print('Loss:',losses_test[epoch],', Accuracy:',accuracies_test[epoch])\n",
    "\n",
    "        if(epoch == 1):\n",
    "            # Get Bottle Neck Layer Output for 1st Epoch\n",
    "            bottleneck1 = model.bottleneck\n",
    "            \n",
    "        if(epoch == EPOCHS-1):        \n",
    "            # Get Bottle Neck Layer Output for Last Epoch\n",
    "            bottleneck2 = model.bottleneck \n",
    "\n",
    "        \n",
    "        \n",
    "    activation_map = model.activation1        \n",
    "        \n",
    "    return accuracies_train, losses_train,accuracies_test, losses_test"
   ]
  },
  {
   "cell_type": "markdown",
   "metadata": {
    "_uuid": "890dfc8d29ac70df919807b275b38112ca9297ab"
   },
   "source": [
    "### Using Vanilla SGD"
   ]
  },
  {
   "cell_type": "code",
   "execution_count": 7,
   "metadata": {
    "_uuid": "3703af54a320fd81bfa426be17655a3cebec5ac4",
    "scrolled": false
   },
   "outputs": [
    {
     "name": "stdout",
     "output_type": "stream",
     "text": [
      "EPOCH:  1\n",
      "Training Set Loss: 2.3096382220586142 , Accuracy: 10.166666666666666\n",
      "Testing Set Loss: 2.3033516466617585 , Accuracy: 9.86233183670044\n",
      "EPOCH:  2\n",
      "Training Set Loss: 2.3053266207377114 , Accuracy: 8.833333333333334\n",
      "Testing Set Loss: 2.299029921531677 , Accuracy: 9.87566205215454\n",
      "EPOCH:  3\n",
      "Training Set Loss: 2.300516963005066 , Accuracy: 10.833333333333334\n",
      "Testing Set Loss: 2.2947472782135008 , Accuracy: 11.379793633460999\n",
      "EPOCH:  4\n",
      "Training Set Loss: 2.2930651903152466 , Accuracy: 17.666666666666668\n",
      "Testing Set Loss: 2.2895175778865813 , Accuracy: 17.072941747665404\n",
      "EPOCH:  5\n",
      "Training Set Loss: 2.2884761889775596 , Accuracy: 25.0\n",
      "Testing Set Loss: 2.2820281338691712 , Accuracy: 30.2148047542572\n",
      "EPOCH:  6\n",
      "Training Set Loss: 2.2740691105524697 , Accuracy: 37.0\n",
      "Testing Set Loss: 2.2696373677253723 , Accuracy: 36.669948669433595\n",
      "EPOCH:  7\n",
      "Training Set Loss: 2.257476011912028 , Accuracy: 38.166666666666664\n",
      "Testing Set Loss: 2.246306409597397 , Accuracy: 38.126093460083005\n",
      "EPOCH:  8\n",
      "Training Set Loss: 2.223814050356547 , Accuracy: 38.0\n",
      "Testing Set Loss: 2.1951318566799163 , Accuracy: 40.188080410003664\n",
      "EPOCH:  9\n",
      "Training Set Loss: 2.1255313952763877 , Accuracy: 46.0\n",
      "Testing Set Loss: 2.054850782036781 , Accuracy: 50.001057006835936\n",
      "EPOCH:  10\n",
      "Training Set Loss: 1.8210440079371135 , Accuracy: 59.166666666666664\n",
      "Testing Set Loss: 1.6000322009325028 , Accuracy: 61.6575856628418\n",
      "EPOCH:  11\n",
      "Training Set Loss: 1.2554414669672649 , Accuracy: 68.0\n",
      "Testing Set Loss: 0.9647093532681466 , Accuracy: 71.05481838226318\n",
      "EPOCH:  12\n",
      "Training Set Loss: 0.8019136587778727 , Accuracy: 76.5\n",
      "Testing Set Loss: 0.6812000622004271 , Accuracy: 77.90051946258545\n",
      "EPOCH:  13\n",
      "Training Set Loss: 0.6187512576580048 , Accuracy: 82.0\n",
      "Testing Set Loss: 0.5570387679934502 , Accuracy: 81.97200638580323\n",
      "EPOCH:  14\n",
      "Training Set Loss: 0.532549723982811 , Accuracy: 84.33333333333333\n",
      "Testing Set Loss: 0.4909999212473631 , Accuracy: 84.01109255981446\n",
      "EPOCH:  15\n",
      "Training Set Loss: 0.47655050953229267 , Accuracy: 84.83333333333333\n",
      "Testing Set Loss: 0.4459166412483901 , Accuracy: 85.6308193511963\n"
     ]
    }
   ],
   "source": [
    "\"\"\"\n",
    "Traning & Testing the Model\n",
    "\n",
    "Optimizer = 'vanilla SGD', ' momentum' , 'RMS prop'\n",
    "\n",
    "\"\"\"\n",
    "n_epoch  = 15\n",
    "Optimizer = 'vanilla SGD'\n",
    "\n",
    "model=CNN()\n",
    "accuracies_train, losses_train,accuracies_test, losses_test= train_test(model, Optimizer ,train_data, n_epoch)"
   ]
  },
  {
   "cell_type": "markdown",
   "metadata": {},
   "source": [
    "### Using Momentum SGD"
   ]
  },
  {
   "cell_type": "code",
   "execution_count": 8,
   "metadata": {
    "scrolled": true
   },
   "outputs": [
    {
     "name": "stdout",
     "output_type": "stream",
     "text": [
      "EPOCH:  1\n",
      "Training Set Loss: 2.2938133080800376 , Accuracy: 16.333333333333332\n",
      "Testing Set Loss: 2.293333633184433 , Accuracy: 20.678884370803832\n",
      "EPOCH:  2\n",
      "Training Set Loss: 1.9120474259058635 , Accuracy: 41.166666666666664\n",
      "Testing Set Loss: 0.7803592863231897 , Accuracy: 75.37156240081787\n",
      "EPOCH:  3\n",
      "Training Set Loss: 0.5274107505877813 , Accuracy: 85.0\n",
      "Testing Set Loss: 0.3407573719965294 , Accuracy: 88.14614691162109\n",
      "EPOCH:  4\n",
      "Training Set Loss: 0.29907694458961487 , Accuracy: 90.83333333333333\n",
      "Testing Set Loss: 0.26742207060870715 , Accuracy: 90.42415362548829\n",
      "EPOCH:  5\n",
      "Training Set Loss: 0.2367850790421168 , Accuracy: 93.16666666666667\n",
      "Testing Set Loss: 0.2081118232200388 , Accuracy: 92.45840893554687\n",
      "EPOCH:  6\n",
      "Training Set Loss: 0.19169368594884872 , Accuracy: 94.16666666666667\n",
      "Testing Set Loss: 0.18195918664935742 , Accuracy: 93.62143273162842\n",
      "EPOCH:  7\n",
      "Training Set Loss: 0.15068332850933075 , Accuracy: 94.83333333333333\n",
      "Testing Set Loss: 0.15348883468890562 , Accuracy: 94.21239612579346\n",
      "EPOCH:  8\n",
      "Training Set Loss: 0.13751760125160217 , Accuracy: 95.16666666666667\n",
      "Testing Set Loss: 0.14378736447228585 , Accuracy: 94.73856901550293\n",
      "EPOCH:  9\n",
      "Training Set Loss: 0.14624481524030367 , Accuracy: 95.16666666666667\n",
      "Testing Set Loss: 0.13840563304224635 , Accuracy: 94.9144889831543\n",
      "EPOCH:  10\n",
      "Training Set Loss: 0.1354073298474153 , Accuracy: 95.83333333333333\n",
      "Testing Set Loss: 0.12510974601269118 , Accuracy: 95.5343172454834\n",
      "EPOCH:  11\n",
      "Training Set Loss: 0.09952712741990884 , Accuracy: 97.16666666666667\n",
      "Testing Set Loss: 0.11294523918208142 , Accuracy: 95.91065361022949\n",
      "EPOCH:  12\n",
      "Training Set Loss: 0.1120962630957365 , Accuracy: 97.66666666666667\n",
      "Testing Set Loss: 0.11112153330884758 , Accuracy: 95.85589306640625\n",
      "EPOCH:  13\n",
      "Training Set Loss: 0.09890293640395005 , Accuracy: 96.66666666666667\n",
      "Testing Set Loss: 0.09863462032761891 , Accuracy: 96.27815259552003\n",
      "EPOCH:  14\n",
      "Training Set Loss: 0.09557704379161198 , Accuracy: 96.83333333333333\n",
      "Testing Set Loss: 0.10250056877247699 , Accuracy: 96.50864221954346\n",
      "EPOCH:  15\n",
      "Training Set Loss: 0.11523822260399659 , Accuracy: 96.33333333333333\n",
      "Testing Set Loss: 0.09422862729692133 , Accuracy: 96.45360659790039\n"
     ]
    }
   ],
   "source": [
    "\"\"\"\n",
    "Traning & Testing the Model\n",
    "\n",
    "Optimizer = 'vanilla SGD', ' momentum' , 'RMS prop'\n",
    "\n",
    "\"\"\"\n",
    "n_epoch  = 15\n",
    "Optimizer = 'momentum'\n",
    "\n",
    "model=CNN()\n",
    "accuracies_train, losses_train,accuracies_test, losses_test= train_test(model, Optimizer ,train_data, n_epoch)"
   ]
  },
  {
   "cell_type": "code",
   "execution_count": null,
   "metadata": {},
   "outputs": [],
   "source": []
  },
  {
   "cell_type": "markdown",
   "metadata": {},
   "source": [
    "### Using RMS Prop"
   ]
  },
  {
   "cell_type": "code",
   "execution_count": 23,
   "metadata": {
    "scrolled": true
   },
   "outputs": [
    {
     "name": "stdout",
     "output_type": "stream",
     "text": [
      "EPOCH:  1\n",
      "Training Set Loss: 0.26326391597588855 , Accuracy: 90.83333333333333\n",
      "Testing Set Loss: 0.11922230157107697 , Accuracy: 95.0239624862671\n",
      "EPOCH:  2\n",
      "Training Set Loss: 0.14571403649946055 , Accuracy: 95.83333333333333\n",
      "Testing Set Loss: 0.08214240149950637 , Accuracy: 96.80365132141114\n",
      "EPOCH:  3\n",
      "Training Set Loss: 0.10809317262222369 , Accuracy: 96.66666666666667\n",
      "Testing Set Loss: 0.0885434075013236 , Accuracy: 96.88279904937744\n",
      "EPOCH:  4\n",
      "Training Set Loss: 0.08564522458861272 , Accuracy: 96.16666666666667\n",
      "Testing Set Loss: 0.07932309543653628 , Accuracy: 97.17302491760253\n",
      "EPOCH:  5\n",
      "Training Set Loss: 0.07911108325545986 , Accuracy: 97.83333333333333\n",
      "Testing Set Loss: 0.07642638157021066 , Accuracy: 97.39767873382569\n",
      "EPOCH:  6\n",
      "Training Set Loss: 0.08464084379374981 , Accuracy: 97.16666666666667\n",
      "Testing Set Loss: 0.06991895652627408 , Accuracy: 97.45235459136963\n",
      "EPOCH:  7\n",
      "Training Set Loss: 0.10068165169407924 , Accuracy: 97.33333333333333\n",
      "Testing Set Loss: 0.07710517190152587 , Accuracy: 97.49051399993897\n",
      "EPOCH:  8\n",
      "Training Set Loss: 0.10548898453513782 , Accuracy: 97.0\n",
      "Testing Set Loss: 0.09092333208017646 , Accuracy: 97.14910398101807\n",
      "EPOCH:  9\n",
      "Training Set Loss: 0.052418045699596405 , Accuracy: 98.33333333333333\n",
      "Testing Set Loss: 0.07994751828529806 , Accuracy: 97.2093994216919\n",
      "EPOCH:  10\n",
      "Training Set Loss: 0.06734552156801026 , Accuracy: 97.16666666666667\n",
      "Testing Set Loss: 0.08146369881023675 , Accuracy: 97.41202976226806\n",
      "EPOCH:  11\n",
      "Training Set Loss: 0.06130904424935579 , Accuracy: 97.66666666666667\n",
      "Testing Set Loss: 0.07941728621335051 , Accuracy: 97.61461430358887\n",
      "EPOCH:  12\n",
      "Training Set Loss: 0.09953831819196542 , Accuracy: 96.5\n",
      "Testing Set Loss: 0.09968633456071833 , Accuracy: 96.8671392288208\n",
      "EPOCH:  13\n",
      "Training Set Loss: 0.07821767342587312 , Accuracy: 96.5\n",
      "Testing Set Loss: 0.07785168536243012 , Accuracy: 97.6803231124878\n",
      "EPOCH:  14\n",
      "Training Set Loss: 0.043220220133662224 , Accuracy: 98.66666666666667\n",
      "Testing Set Loss: 0.08714185761948329 , Accuracy: 96.93858338165283\n",
      "EPOCH:  15\n",
      "Training Set Loss: 0.04179436123619477 , Accuracy: 98.5\n",
      "Testing Set Loss: 0.08687959989102262 , Accuracy: 97.27507238006592\n"
     ]
    }
   ],
   "source": [
    "\"\"\"\n",
    "Traning & Testing the Model\n",
    "\n",
    "Optimizer = 'vanilla SGD', ' momentum' , 'RMS prop'\n",
    "\n",
    "\"\"\"\n",
    "n_epoch  = 15\n",
    "Optimizer = 'RMS prop'\n",
    "\n",
    "model=CNN()\n",
    "accuracies_train, losses_train,accuracies_test, losses_test= train_test(model, Optimizer ,train_data, n_epoch)"
   ]
  },
  {
   "cell_type": "markdown",
   "metadata": {},
   "source": [
    "## Training and Testing Error"
   ]
  },
  {
   "cell_type": "code",
   "execution_count": 24,
   "metadata": {},
   "outputs": [
    {
     "name": "stdout",
     "output_type": "stream",
     "text": [
      " Training Losses  :  [0.26326392 0.14571404 0.10809317 0.08564522 0.07911108 0.08464084\n",
      " 0.10068165 0.10548898 0.05241805 0.06734552 0.06130904 0.09953832\n",
      " 0.07821767 0.04322022 0.04179436]\n",
      " Testing Losses   :  [0.1192223  0.0821424  0.08854341 0.0793231  0.07642638 0.06991896\n",
      " 0.07710517 0.09092333 0.07994752 0.0814637  0.07941729 0.09968633\n",
      " 0.07785169 0.08714186 0.0868796 ]\n"
     ]
    }
   ],
   "source": [
    "print(\" Training Losses  : \", losses_train)\n",
    "print(\" Testing Losses   : \", losses_test)"
   ]
  },
  {
   "cell_type": "code",
   "execution_count": 25,
   "metadata": {},
   "outputs": [],
   "source": [
    "def plot_losses(losses_train,losses_test):\n",
    "    plt.plot(losses_train, '-bx')\n",
    "    plt.plot(losses_test, '-gx')\n",
    "    plt.xlabel('epoch')\n",
    "    plt.ylabel('loss')\n",
    "    plt.legend(['Training', 'Testing'])\n",
    "    plt.title('Loss vs. No. of epochs')\n",
    "    plt.show()"
   ]
  },
  {
   "cell_type": "code",
   "execution_count": 26,
   "metadata": {},
   "outputs": [
    {
     "data": {
      "image/png": "[encoded data removed]",
      "text/plain": [
       "<Figure size 432x288 with 1 Axes>"
      ]
     },
     "metadata": {
      "needs_background": "light"
     },
     "output_type": "display_data"
    }
   ],
   "source": [
    "plot_losses(losses_train,losses_test)"
   ]
  },
  {
   "cell_type": "code",
   "execution_count": null,
   "metadata": {},
   "outputs": [],
   "source": []
  },
  {
   "cell_type": "markdown",
   "metadata": {},
   "source": [
    "## Activation Map"
   ]
  },
  {
   "cell_type": "code",
   "execution_count": 32,
   "metadata": {},
   "outputs": [
    {
     "data": {
      "text/plain": [
       "torch.Size([10, 4, 28, 28])"
      ]
     },
     "execution_count": 32,
     "metadata": {},
     "output_type": "execute_result"
    }
   ],
   "source": [
    "activation_map.shape"
   ]
  },
  {
   "cell_type": "code",
   "execution_count": 33,
   "metadata": {},
   "outputs": [],
   "source": [
    "activation_map = torch.detach(activation_map)"
   ]
  },
  {
   "cell_type": "code",
   "execution_count": 34,
   "metadata": {
    "scrolled": true
   },
   "outputs": [
    {
     "data": {
      "image/png": "[encoded data removed]",
      "text/plain": [
       "<Figure size 432x288 with 1 Axes>"
      ]
     },
     "metadata": {
      "needs_background": "light"
     },
     "output_type": "display_data"
    },
    {
     "data": {
      "image/png": "[encoded data removed]",
      "text/plain": [
       "<Figure size 432x288 with 1 Axes>"
      ]
     },
     "metadata": {
      "needs_background": "light"
     },
     "output_type": "display_data"
    },
    {
     "data": {
      "image/png": "[encoded data removed]",
      "text/plain": [
       "<Figure size 432x288 with 1 Axes>"
      ]
     },
     "metadata": {
      "needs_background": "light"
     },
     "output_type": "display_data"
    },
    {
     "data": {
      "image/png": "[encoded data removed]",
      "text/plain": [
       "<Figure size 432x288 with 1 Axes>"
      ]
     },
     "metadata": {
      "needs_background": "light"
     },
     "output_type": "display_data"
    }
   ],
   "source": [
    "for i in range(4):\n",
    "    plt.imshow(activation_map[0,i,:,:], cmap = 'gray')\n",
    "    plt.show()"
   ]
  },
  {
   "cell_type": "code",
   "execution_count": null,
   "metadata": {},
   "outputs": [],
   "source": []
  },
  {
   "cell_type": "markdown",
   "metadata": {},
   "source": [
    "## Accuracy"
   ]
  },
  {
   "cell_type": "code",
   "execution_count": 35,
   "metadata": {},
   "outputs": [
    {
     "name": "stdout",
     "output_type": "stream",
     "text": [
      "Training Accuracy for Each Epoch : [90.83333333 95.83333333 96.66666667 96.16666667 97.83333333 97.16666667\n",
      " 97.33333333 97.         98.33333333 97.16666667 97.66666667 96.5\n",
      " 96.5        98.66666667 98.5       ]\n"
     ]
    }
   ],
   "source": [
    "print(\"Training Accuracy for Each Epoch :\", accuracies_train)"
   ]
  },
  {
   "cell_type": "code",
   "execution_count": 36,
   "metadata": {
    "scrolled": true
   },
   "outputs": [
    {
     "name": "stdout",
     "output_type": "stream",
     "text": [
      "Testing Accuracy for Each Epoch : [95.02396249 96.80365132 96.88279905 97.17302492 97.39767873 97.45235459\n",
      " 97.490514   97.14910398 97.20939942 97.41202976 97.6146143  96.86713923\n",
      " 97.68032311 96.93858338 97.27507238]\n"
     ]
    }
   ],
   "source": [
    "print(\"Testing Accuracy for Each Epoch :\", accuracies_test)"
   ]
  },
  {
   "cell_type": "code",
   "execution_count": 37,
   "metadata": {},
   "outputs": [
    {
     "name": "stdout",
     "output_type": "stream",
     "text": [
      "Mean Testing Accuracy : 97.09135004475911\n"
     ]
    }
   ],
   "source": [
    "print(\"Mean Testing Accuracy :\", np.mean(accuracies_test) )"
   ]
  },
  {
   "cell_type": "markdown",
   "metadata": {},
   "source": [
    "## Q4. tSNE"
   ]
  },
  {
   "cell_type": "code",
   "execution_count": 38,
   "metadata": {},
   "outputs": [],
   "source": [
    "from sklearn.manifold import TSNE"
   ]
  },
  {
   "cell_type": "code",
   "execution_count": 39,
   "metadata": {},
   "outputs": [],
   "source": [
    "bottleneck1  = torch.detach(bottleneck1)"
   ]
  },
  {
   "cell_type": "code",
   "execution_count": 40,
   "metadata": {},
   "outputs": [],
   "source": [
    "bottleneck2  = torch.detach(bottleneck2)"
   ]
  },
  {
   "cell_type": "code",
   "execution_count": null,
   "metadata": {},
   "outputs": [],
   "source": []
  },
  {
   "cell_type": "code",
   "execution_count": 41,
   "metadata": {},
   "outputs": [
    {
     "data": {
      "text/plain": [
       "<matplotlib.collections.PathCollection at 0x16dc228f940>"
      ]
     },
     "execution_count": 41,
     "metadata": {},
     "output_type": "execute_result"
    },
    {
     "data": {
      "image/png": "[encoded data removed]",
      "text/plain": [
       "<Figure size 432x288 with 1 Axes>"
      ]
     },
     "metadata": {
      "needs_background": "light"
     },
     "output_type": "display_data"
    }
   ],
   "source": [
    "X_embedded = TSNE(n_components=2,init='random').fit_transform(bottleneck1.reshape(-1,1))\n",
    "plt.scatter(X_embedded[:,0],X_embedded[:,1])"
   ]
  },
  {
   "cell_type": "code",
   "execution_count": 42,
   "metadata": {
    "scrolled": true
   },
   "outputs": [
    {
     "data": {
      "text/plain": [
       "<matplotlib.collections.PathCollection at 0x16dc22e1b38>"
      ]
     },
     "execution_count": 42,
     "metadata": {},
     "output_type": "execute_result"
    },
    {
     "data": {
      "image/png": "[encoded data removed]",
      "text/plain": [
       "<Figure size 432x288 with 1 Axes>"
      ]
     },
     "metadata": {
      "needs_background": "light"
     },
     "output_type": "display_data"
    }
   ],
   "source": [
    "X_embedded = TSNE(n_components=2,init='random').fit_transform(bottleneck2.reshape(-1,1))\n",
    "plt.scatter(X_embedded[:,0],X_embedded[:,1])"
   ]
  },
  {
   "cell_type": "code",
   "execution_count": null,
   "metadata": {},
   "outputs": [],
   "source": []
  },
  {
   "cell_type": "code",
   "execution_count": null,
   "metadata": {},
   "outputs": [],
   "source": []
  },
  {
   "cell_type": "markdown",
   "metadata": {},
   "source": [
    "## Q5. Compare Result"
   ]
  },
  {
   "cell_type": "markdown",
   "metadata": {},
   "source": [
    "**CNN using Numpy from Scratch:-**\n",
    "</br> *for 5 Epoch :*\n",
    "</br> Using Vanilla SGD : Train Accuracy = 88% and Test Accuracy = 71.4% \n",
    "</br> Using Momentum SGD : Train Accuracy = 89.9% and Test Accuracy = 74.6% \n",
    "</br> Using RMS Prop : Train Accuracy = 85.4% and Test Accuracy = 72.3% \n",
    "\n",
    "| Optimizer | Traning Accuracy | Testing Accuracy |\n",
    "| :- | -: | :-: |\n",
    "| Vanilla SGD | 88% | 71.4%\n",
    "| Momentum SGD | 89.9% |74.6%\n",
    "| RMS Prop | 85.4% | 74.6%\n",
    "\n",
    "\n",
    "\n",
    "**CNN using Pytorch:-**\n",
    "</br> *for 5 Epoch :*\n",
    "</br> Using Vanilla SGD : Train Accuracy = 25% and Test Accuracy = 30.3% \n",
    "</br> Using Momentum SGD : Train Accuracy = 95.5% and Test Accuracy = 93.3% \n",
    "</br> Using RMS Prop : Train Accuracy = 97.6% and Test Accuracy = 97.89%\n",
    "\n",
    "| Optimizer | Traning Accuracy | Testing Accuracy |\n",
    "| :- | -: | :-: |\n",
    "| Vanilla SGD | 25% | 30.3%\n",
    "| Momentum SGD | 93.16% | 92.45%\n",
    "| RMS Prop | 97.6% | 97.89%\n"
   ]
  },
  {
   "cell_type": "markdown",
   "metadata": {},
   "source": []
  },
  {
   "cell_type": "markdown",
   "metadata": {},
   "source": [
    "## Q6. Dropout "
   ]
  },
  {
   "cell_type": "code",
   "execution_count": 43,
   "metadata": {},
   "outputs": [],
   "source": [
    "class CNN2(nn.Module):\n",
    "    \n",
    "    def __init__(self, dropout_rate):\n",
    "        \"\"\"\n",
    "        Here We are initializing all the convolution Layer with Kernel Size 5*5*4 keeping the dimension same,\n",
    "        Max Pool Layer with stride 2,\n",
    "        Hidden Layer 1 with  49 Nodes\n",
    "        Output Layer with 10 Nodes\n",
    "        \n",
    "        \"\"\"\n",
    "        super(CNN2, self).__init__()\n",
    "        \n",
    "        # Convolution Layer 1 with input channel =1 , output channels  = 4 , Kernel Size = 5*5 , Padding as 2\n",
    "        self.conv1 = nn.Conv2d(in_channels=1, out_channels=4, kernel_size=5, stride=1, padding=2)\n",
    "        # ReLU activation\n",
    "        self.relu1 = nn.ReLU()\n",
    "        \n",
    "        # Max Pooling with Size = 2 and stride = 2\n",
    "        self.maxpool1 = nn.MaxPool2d(kernel_size=2, stride = 2)\n",
    "        \n",
    "        # Convolution Layer 2 with input channel =4 , output channels  = 4 , Kernel Size = 5*5 , Padding as 2\n",
    "        self.conv2 = nn.Conv2d(in_channels=4, out_channels=4, kernel_size=5, stride=1, padding=2)\n",
    "        self.relu2 = nn.ReLU()\n",
    "        \n",
    "        # Max Pooling with Size = 2 and stride = 2\n",
    "        self.maxpool2 = nn.MaxPool2d(kernel_size=2, stride = 2)\n",
    "        \n",
    "        \n",
    "        # Flatten Layer:- 7x7x4 --> 196x1\n",
    "        self.flatten = nn.Flatten()\n",
    "        \n",
    "        # Hidden Layer 1 with 49 Node \n",
    "        self.fullyconnected1 = nn.Linear(7*7*4, 49)\n",
    "        # Relu Activation\n",
    "        self.relumlp = nn.ReLU()\n",
    "        \n",
    "        # Hidden Layer 2 with 10 Output Nodes\n",
    "        self.fullyconnected2 = nn.Linear(49, 10)\n",
    "        \n",
    "        self.dropout_rate = dropout_rate\n",
    "        \n",
    "    def forward(self, out):\n",
    "        \"\"\"\n",
    "        Convolution layer 1 --> Relu --> Maxpooling Layer 1 --> Convolution Layer 2 --> Relu --> MaxPooling Layer 2\n",
    "            --> Flattening Layer --> Hidden Layer 1 --> ReLU --> Dropout --> Softmax --> Output (1*10)\n",
    "            \n",
    "        Input:- Ouptput from the previous Layer\n",
    "        Return :- FCL output\n",
    "            \n",
    "        \"\"\"\n",
    "        \n",
    "        \n",
    "        out = self.conv1(out)# Convolution Layer Output 1\n",
    "        self.activation1=out# Activation Layer 1 \n",
    "        out = self.relu1(out)# ReLU output\n",
    "        out = self.maxpool1(out)# MaxPool Output\n",
    "        \n",
    "        \n",
    "        out = self.conv2(out) # Convolution Layer output 2 \n",
    "        self.activation2=out# Activation Layer 2\n",
    "        out = self.relu2(out) \n",
    "        out = self.maxpool2(out)\n",
    "        \n",
    "        \n",
    "        out = out.view(out.size(0), -1)# Flattening Layer Output\n",
    "        self.bottleneck=out # Bottleneck Output \n",
    "        \n",
    "        out = self.fullyconnected1(out)# Hidden Layer  1\n",
    "        \n",
    "        out = self.relumlp(out)\n",
    "        \n",
    "        \n",
    "        out = F.dropout(out , p =self.dropout_rate, training=self.training)\n",
    "\n",
    "        out=self.fullyconnected2(out) # Output Layer 2\n",
    "        \n",
    "        # SOFTMAX\n",
    "        out = F.log_softmax(out, dim = 1)\n",
    "        \n",
    "        return out"
   ]
  },
  {
   "cell_type": "code",
   "execution_count": null,
   "metadata": {},
   "outputs": [],
   "source": []
  },
  {
   "cell_type": "code",
   "execution_count": 44,
   "metadata": {},
   "outputs": [
    {
     "name": "stdout",
     "output_type": "stream",
     "text": [
      "EPOCH:  1\n",
      "Training Set Loss: 2.3002785444259644 , Accuracy: 12.666666666666666\n",
      "Testing Set Loss: 2.3015949556827544 , Accuracy: 11.61731404876709\n",
      "EPOCH:  2\n",
      "Training Set Loss: 2.2946015199025473 , Accuracy: 12.833333333333334\n",
      "Testing Set Loss: 2.301904798269272 , Accuracy: 11.61731404876709\n",
      "EPOCH:  3\n",
      "Training Set Loss: 1.3293647368748982 , Accuracy: 50.5\n",
      "Testing Set Loss: 1.1102441069185733 , Accuracy: 56.02035531234741\n",
      "EPOCH:  4\n",
      "Training Set Loss: 1.054381916920344 , Accuracy: 58.0\n",
      "Testing Set Loss: 1.0042339135482907 , Accuracy: 60.57124594116211\n",
      "EPOCH:  5\n",
      "Training Set Loss: 0.9615204830964407 , Accuracy: 59.833333333333336\n",
      "Testing Set Loss: 0.9850604901835323 , Accuracy: 62.2595915145874\n",
      "EPOCH:  6\n",
      "Training Set Loss: 1.090970903635025 , Accuracy: 59.5\n",
      "Testing Set Loss: 0.9325485803037882 , Accuracy: 63.16584680557251\n",
      "EPOCH:  7\n",
      "Training Set Loss: 0.9570603668689728 , Accuracy: 62.833333333333336\n",
      "Testing Set Loss: 0.8959262805730105 , Accuracy: 64.81595352172852\n",
      "EPOCH:  8\n",
      "Training Set Loss: 0.8719244599342346 , Accuracy: 65.0\n",
      "Testing Set Loss: 0.8653054893258959 , Accuracy: 67.22950518035888\n",
      "EPOCH:  9\n",
      "Training Set Loss: 0.9438042342662811 , Accuracy: 63.333333333333336\n",
      "Testing Set Loss: 0.8818117687255144 , Accuracy: 63.987939403533936\n",
      "EPOCH:  10\n",
      "Training Set Loss: 0.8733669320742289 , Accuracy: 67.33333333333333\n",
      "Testing Set Loss: 0.8621377256661653 , Accuracy: 65.3798476600647\n",
      "EPOCH:  11\n",
      "Training Set Loss: 0.9331360658009847 , Accuracy: 63.666666666666664\n",
      "Testing Set Loss: 0.8545366650745273 , Accuracy: 66.19241468811035\n",
      "EPOCH:  12\n",
      "Training Set Loss: 0.9023246169090271 , Accuracy: 66.0\n",
      "Testing Set Loss: 0.8973174758031964 , Accuracy: 64.92766906738281\n",
      "EPOCH:  13\n",
      "Training Set Loss: 0.8185565173625946 , Accuracy: 68.16666666666667\n",
      "Testing Set Loss: 0.8581702225059271 , Accuracy: 66.82170178604126\n",
      "EPOCH:  14\n",
      "Training Set Loss: 0.92949906984965 , Accuracy: 66.0\n",
      "Testing Set Loss: 0.9352318303436041 , Accuracy: 64.35148313140868\n",
      "EPOCH:  15\n",
      "Training Set Loss: 0.8947573999563853 , Accuracy: 67.0\n",
      "Testing Set Loss: 0.9082964311987162 , Accuracy: 65.51204055023193\n"
     ]
    }
   ],
   "source": [
    "\"\"\"\n",
    "Traning the Model\n",
    "\n",
    "Optimizer = 'vanilla SGD', ' momentum' , 'RMS prop'\n",
    "dropout_rate = 0.2, 0.5 , 0.8\n",
    "\n",
    "\"\"\"\n",
    "n_epoch  = 15\n",
    "Optimizer = 'RMS prop'\n",
    "dropout_rate = 0.8\n",
    "\n",
    "model2=CNN2(dropout_rate)\n",
    "\n",
    "accuracies_train, losses_train,accuracies_test, losses_test= train_test(model2, Optimizer ,train_data, n_epoch)"
   ]
  },
  {
   "cell_type": "code",
   "execution_count": null,
   "metadata": {
    "scrolled": false
   },
   "outputs": [],
   "source": []
  },
  {
   "cell_type": "markdown",
   "metadata": {},
   "source": [
    "**Comparing with and without droupout layer**\n",
    "- Without using the droupout layer we face a problem of overfitting\n",
    "- Using the dropout layer the problem of overfitting can be resolve\n",
    "- Using dropout Layer the Losses are decreased and Accuracy is increased"
   ]
  },
  {
   "cell_type": "markdown",
   "metadata": {},
   "source": [
    "## Q7. Batch Normalization "
   ]
  },
  {
   "cell_type": "code",
   "execution_count": 45,
   "metadata": {
    "scrolled": true
   },
   "outputs": [],
   "source": [
    "class CNN3(nn.Module):\n",
    "    \n",
    "    def __init__(self, dropout_rate):\n",
    "        \"\"\"\n",
    "        Here We are initializing all the convolution Layer with Kernel Size 5*5*4 keeping the dimension same,\n",
    "        Max Pool Layer with stride 2,\n",
    "        Hidden Layer 1 with  49 Nodes\n",
    "        Output Layer with 10 Nodes\n",
    "        \n",
    "        \"\"\"\n",
    "        super(CNN3, self).__init__()\n",
    "        \n",
    "        # Convolution Layer 1 with input channel =1 , output channels  = 4 , Kernel Size = 5*5 , Padding as 2\n",
    "        self.conv1 = nn.Conv2d(in_channels=1, out_channels=4, kernel_size=5, stride=1, padding=2)\n",
    "        # ReLU activation\n",
    "        self.relu1 = nn.ReLU()\n",
    "        \n",
    "        # Max Pooling with Size = 2 and stride = 2\n",
    "        self.maxpool1 = nn.MaxPool2d(kernel_size=2, stride = 2)\n",
    "        \n",
    "        # Convolution Layer 2 with input channel =4 , output channels  = 4 , Kernel Size = 5*5 , Padding as 2\n",
    "        self.conv2 = nn.Conv2d(in_channels=4, out_channels=4, kernel_size=5, stride=1, padding=2)\n",
    "        self.relu2 = nn.ReLU()\n",
    "        \n",
    "        # Max Pooling with Size = 2 and stride = 2\n",
    "        self.maxpool2 = nn.MaxPool2d(kernel_size=2, stride = 2)\n",
    "        \n",
    "        \n",
    "        # Flatten Layer:- 7x7x4 --> 196x1\n",
    "        self.flatten = nn.Flatten()\n",
    "        \n",
    "        # Hidden Layer 1 with 49 Node \n",
    "        self.fullyconnected1 = nn.Linear(7*7*4, 49)\n",
    "        # Relu Activation\n",
    "        self.relumlp = nn.ReLU()\n",
    "        \n",
    "        self.batchNorm=nn.BatchNorm1d(49)\n",
    "        \n",
    "        # Hidden Layer 2 with 10 Output Nodes\n",
    "        self.fullyconnected2 = nn.Linear(49, 10)\n",
    "        \n",
    "        self.dropout_rate = dropout_rate\n",
    "        \n",
    "    def forward(self, out):\n",
    "        \"\"\"\n",
    "        Convolution layer 1 --> Relu --> Maxpooling Layer 1 --> Convolution Layer 2 --> Relu --> MaxPooling Layer 2 --\n",
    "            --> Flattening Layer --> Hidden Layer 1 --> ReLU --> dropout --> Batch Norm --> Softmax --> Output (1*10)\n",
    "            \n",
    "        Input:- Ouptput from the previous Layer\n",
    "        Return :- FCL output\n",
    "            \n",
    "        \"\"\"\n",
    "        \n",
    "        \n",
    "        out = self.conv1(out)# Convolution Layer Output 1\n",
    "        self.activation1=out# Activation Layer 1 \n",
    "        out = self.relu1(out)# ReLU output\n",
    "        out = self.maxpool1(out)# MaxPool Output\n",
    "        \n",
    "        \n",
    "        out = self.conv2(out) # Convolution Layer output 2 \n",
    "        self.activation2=out# Activation Layer 2\n",
    "        out = self.relu2(out) \n",
    "        out = self.maxpool2(out)\n",
    "        \n",
    "        \n",
    "        out = out.view(out.size(0), -1)# Flattening Layer Output\n",
    "        self.bottleneck=out # Bottleneck Output \n",
    "        \n",
    "        out = self.fullyconnected1(out)# Hidden Layer  1\n",
    "        \n",
    "        out = self.relumlp(out)\n",
    "        \n",
    "        # BATCH NORMALIZATION\n",
    "        out=self.batchNorm(out)\n",
    "        \n",
    "        # DROPOUT LAYER\n",
    "        out = F.dropout(out , p =self.dropout_rate, training=self.training)\n",
    "\n",
    "        out=self.fullyconnected2(out) # Output Layer 2\n",
    "        \n",
    "        # SOFTMAX\n",
    "        out = F.log_softmax(out, dim = 1)\n",
    "        \n",
    "        return out"
   ]
  },
  {
   "cell_type": "code",
   "execution_count": 46,
   "metadata": {},
   "outputs": [
    {
     "name": "stdout",
     "output_type": "stream",
     "text": [
      "EPOCH:  1\n",
      "Training Set Loss: 1.5273364186286926 , Accuracy: 61.5\n",
      "Testing Set Loss: 1.2856078498959542 , Accuracy: 68.87012335205078\n",
      "EPOCH:  2\n",
      "Training Set Loss: 1.079742670059204 , Accuracy: 77.0\n",
      "Testing Set Loss: 0.9965055792927742 , Accuracy: 75.75139652252197\n",
      "EPOCH:  3\n",
      "Training Set Loss: 0.8696005642414093 , Accuracy: 83.83333333333333\n",
      "Testing Set Loss: 0.8235004968643188 , Accuracy: 80.60775825500488\n",
      "EPOCH:  4\n",
      "Training Set Loss: 0.6510159770647684 , Accuracy: 88.0\n",
      "Testing Set Loss: 0.6990953193902969 , Accuracy: 83.45905433654785\n",
      "EPOCH:  5\n",
      "Training Set Loss: 0.578010102113088 , Accuracy: 89.66666666666667\n",
      "Testing Set Loss: 0.6178418345600366 , Accuracy: 84.42182585144043\n",
      "EPOCH:  6\n",
      "Training Set Loss: 0.5176542550325394 , Accuracy: 90.33333333333333\n",
      "Testing Set Loss: 0.5505217489749193 , Accuracy: 86.07840018463135\n",
      "EPOCH:  7\n",
      "Training Set Loss: 0.4542004366715749 , Accuracy: 90.0\n",
      "Testing Set Loss: 0.49698252450674774 , Accuracy: 87.20893440246581\n",
      "EPOCH:  8\n",
      "Training Set Loss: 0.4253559062878291 , Accuracy: 91.0\n",
      "Testing Set Loss: 0.45621402614563705 , Accuracy: 88.07358505249023\n",
      "EPOCH:  9\n",
      "Training Set Loss: 0.3602314740419388 , Accuracy: 94.33333333333333\n",
      "Testing Set Loss: 0.418676537681371 , Accuracy: 89.41794763946532\n",
      "EPOCH:  10\n",
      "Training Set Loss: 0.33580289284388226 , Accuracy: 93.33333333333333\n",
      "Testing Set Loss: 0.38592744977772236 , Accuracy: 89.34504537200928\n",
      "EPOCH:  11\n",
      "Training Set Loss: 0.30820999046166736 , Accuracy: 93.16666666666667\n",
      "Testing Set Loss: 0.3606346239000559 , Accuracy: 90.09424310302734\n",
      "EPOCH:  12\n",
      "Training Set Loss: 0.32635700702667236 , Accuracy: 92.16666666666667\n",
      "Testing Set Loss: 0.33628235978633164 , Accuracy: 90.9475606842041\n",
      "EPOCH:  13\n",
      "Training Set Loss: 0.28211570531129837 , Accuracy: 94.33333333333333\n",
      "Testing Set Loss: 0.3238637392185628 , Accuracy: 90.77089252471924\n",
      "EPOCH:  14\n",
      "Training Set Loss: 0.2384251058101654 , Accuracy: 94.83333333333333\n",
      "Testing Set Loss: 0.300976239444688 , Accuracy: 91.0464941329956\n",
      "EPOCH:  15\n",
      "Training Set Loss: 0.24658518036206564 , Accuracy: 95.33333333333333\n",
      "Testing Set Loss: 0.2886647041272372 , Accuracy: 91.44605142974854\n"
     ]
    }
   ],
   "source": [
    "\"\"\"\n",
    "Traning the Model\n",
    "\n",
    "Optimizer = 'vanilla SGD', ' momentum' , 'RMS prop'\n",
    "\n",
    "\"\"\"\n",
    "n_epoch  = 15\n",
    "Optimizer = 'vanilla SGD'\n",
    "dropout_rate = 0.2\n",
    "model3=CNN3(dropout_rate)\n",
    "\n",
    "accuracies_train, losses_train,accuracies_test, losses_test= train_test(model3, Optimizer ,train_data, n_epoch)"
   ]
  },
  {
   "cell_type": "markdown",
   "metadata": {},
   "source": [
    "**Comparing**"
   ]
  },
  {
   "cell_type": "markdown",
   "metadata": {},
   "source": [
    "- Using the Batch Normalize layer we require less epoch\n",
    "- good accuracy is reached in less number of epoch\n"
   ]
  },
  {
   "cell_type": "code",
   "execution_count": null,
   "metadata": {},
   "outputs": [],
   "source": []
  }
 ],
 "metadata": {
  "kernelspec": {
   "display_name": "Python 3 (ipykernel)",
   "language": "python",
   "name": "python3"
  },
  "language_info": {
   "codemirror_mode": {
    "name": "ipython",
    "version": 3
   },
   "file_extension": ".py",
   "mimetype": "text/x-python",
   "name": "python",
   "nbconvert_exporter": "python",
   "pygments_lexer": "ipython3",
   "version": "3.7.3"
  }
 },
 "nbformat": 4,
 "nbformat_minor": 1
}
